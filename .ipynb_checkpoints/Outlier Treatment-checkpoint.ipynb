{
 "cells": [
  {
   "cell_type": "code",
   "execution_count": null,
   "id": "e26936f0",
   "metadata": {},
   "outputs": [],
   "source": [
    "def treat_outlier(x):\n",
    "    # taking 5,25,75 percentile of column\n",
    "    q5= np.percentile(x,5)\n",
    "    q25=np.percentile(x,25)\n",
    "    q75=np.percentile(x,75)\n",
    "    dt=np.percentile(x,99)\n",
    "    #calculationg IQR range\n",
    "    IQR=q75-q25\n",
    "    #Calculating minimum threshold\n",
    "    lower_bound=q25-(1.5*IQR)\n",
    "    upper_bound=q75+(1.5*IQR)\n",
    "    #Capping outliers\n",
    "    return x.apply(lambda y: dt if y > upper_bound else y).apply(lambda y: q5 if y < lower_bound else y)"
   ]
  },
  {
   "cell_type": "code",
   "execution_count": null,
   "id": "7f19b903",
   "metadata": {},
   "outputs": [],
   "source": [
    "no_outlier=[]"
   ]
  },
  {
   "cell_type": "code",
   "execution_count": null,
   "id": "6aabe28c",
   "metadata": {},
   "outputs": [],
   "source": [
    "outlier_list = [x for x in df_num.columns if x not in no_outlier]"
   ]
  },
  {
   "cell_type": "code",
   "execution_count": null,
   "id": "0b384b79",
   "metadata": {},
   "outputs": [],
   "source": [
    "for i in df_num[outlier_list]:    \n",
    "    df_num[i]=treat_outlier(df_num[i])"
   ]
  },
  {
   "cell_type": "code",
   "execution_count": null,
   "id": "839abd27",
   "metadata": {},
   "outputs": [],
   "source": [
    "df_num.boxplot(figsize=(20,20))\n",
    "plt.xticks(rotation=90)\n",
    "plt.show()"
   ]
  },
  {
   "cell_type": "code",
   "execution_count": null,
   "id": "6669e5a6",
   "metadata": {},
   "outputs": [],
   "source": []
  }
 ],
 "metadata": {
  "kernelspec": {
   "display_name": "Python 3 (ipykernel)",
   "language": "python",
   "name": "python3"
  },
  "language_info": {
   "codemirror_mode": {
    "name": "ipython",
    "version": 3
   },
   "file_extension": ".py",
   "mimetype": "text/x-python",
   "name": "python",
   "nbconvert_exporter": "python",
   "pygments_lexer": "ipython3",
   "version": "3.9.7"
  }
 },
 "nbformat": 4,
 "nbformat_minor": 5
}
